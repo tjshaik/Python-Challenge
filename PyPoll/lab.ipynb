{
 "cells": [
  {
   "cell_type": "code",
   "execution_count": 2,
   "metadata": {},
   "outputs": [],
   "source": [
    "import csv\n",
    "import os"
   ]
  },
  {
   "cell_type": "code",
   "execution_count": 7,
   "metadata": {},
   "outputs": [
    {
     "data": {
      "text/plain": [
       "'Resources/election_data.csv'"
      ]
     },
     "execution_count": 7,
     "metadata": {},
     "output_type": "execute_result"
    }
   ],
   "source": [
    "file = os.path.join (\"Resources\",\"election_data.csv\")\n",
    "file"
   ]
  },
  {
   "cell_type": "code",
   "execution_count": 8,
   "metadata": {},
   "outputs": [
    {
     "data": {
      "text/plain": [
       "'analysis/election_analysis.txt'"
      ]
     },
     "execution_count": 8,
     "metadata": {},
     "output_type": "execute_result"
    }
   ],
   "source": [
    "output = \"analysis/election_analysis.txt\"\n",
    "output"
   ]
  },
  {
   "cell_type": "code",
   "execution_count": 9,
   "metadata": {},
   "outputs": [],
   "source": [
    "#toal voter count\n",
    "total_votes = 0 \n",
    "\n",
    "# candiate options and vote counters\n",
    "candidate_options = []\n",
    "candidate_votes = {}\n",
    "Winner = \"\"\n",
    "Wining_count = 0\n",
    "\n"
   ]
  },
  {
   "cell_type": "code",
   "execution_count": null,
   "metadata": {},
   "outputs": [],
   "source": [
    "# read csv and convert to dictionary \n",
    "with open(file) as election_data:\n",
    "    reader = csv.reader(election_data)\n",
    "    header = next(reader)\n",
    "\n",
    "    for row in reader:\n",
    "        # total vote count\n",
    "        total_votes = total_votes + 1\n",
    "\n",
    "        # The candidate name from each row\n",
    "        candidate_name = row[2]\n",
    "        # IF diffrent candidate \n",
    "        if candidate_options not in candidate_options:\n",
    "            # add to list\n",
    "            candidate_options.append(candidate_name)\n",
    "            # track candidate voter count\n",
    "            candidate_votes[candidate_name] = 0\n",
    "        candidate_votes[candidate_name]= candidate_votes[candidate_name]+ 1\n"
   ]
  },
  {
   "cell_type": "code",
   "execution_count": null,
   "metadata": {},
   "outputs": [],
   "source": [
    "with open(output, 'w') as txt_file:\n",
    "    #Print\n",
    "    election_results = (\n",
    "        f\"\\n\\nElection Results\\n\"\n",
    "        f\"---------------------\\n\"\n",
    "        f\"Total Votes: {total_votes}\\n\"\n",
    "    )\n",
    "    print(election_results)\n",
    "    # save text file \n",
    "    txt_file.write(election_results)\n",
    "\n",
    "    #Find winning vote count and candidate\n",
    "    for row[2] in candidate_votes:\n",
    "\n",
    "        # get vote count and percentage\n",
    "        votes = candidate_votes.get(row[2])\n",
    "        votes_percentage = float(votes)/ float(total_votes) * 100\n",
    "       \n",
    "        # Determine winning count and cand \n",
    "        if (votes > Wining_count):\n",
    "            Wining_count = votes\n",
    "            Wining_count = row[2]\n",
    "        Winner = row[2]\n",
    "\n",
    "        #print each candiate's infor\n",
    "        voter_output = f\" {(row[2])}: {votes_percentage:.2f}% {votes})\\n\"\n",
    "        print(voter_output)\n",
    "\n",
    "    #print winning candidate\n",
    "    Winner_summary = (\n",
    "        f\"--------------------\\n\"\n",
    "        f\"Winner: {Winner}\\n\"\n",
    "        f\"--------------------\\n\"\n",
    "    )\n",
    "    print(Winner_summary)\n",
    "    txt_file.write(Winner_summary)\n",
    "\n",
    "\n",
    "\n"
   ]
  }
 ],
 "metadata": {
  "kernelspec": {
   "display_name": "dev",
   "language": "python",
   "name": "python3"
  },
  "language_info": {
   "codemirror_mode": {
    "name": "ipython",
    "version": 3
   },
   "file_extension": ".py",
   "mimetype": "text/x-python",
   "name": "python",
   "nbconvert_exporter": "python",
   "pygments_lexer": "ipython3",
   "version": "3.10.11"
  },
  "orig_nbformat": 4
 },
 "nbformat": 4,
 "nbformat_minor": 2
}
